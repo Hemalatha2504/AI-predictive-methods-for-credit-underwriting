{
 "cells": [
  {
   "cell_type": "code",
   "execution_count": 56,
   "id": "0fc186b8-1d1c-40bf-8fb9-3513912ca09d",
   "metadata": {},
   "outputs": [],
   "source": [
    "import pandas as pd\n",
    "import numpy as np\n",
    "from sklearn.model_selection import train_test_split\n",
    "from sklearn.ensemble import GradientBoostingClassifier\n",
    "from sklearn.metrics import accuracy_score, classification_report, roc_auc_score\n",
    "from sklearn.preprocessing import LabelEncoder\n",
    "import warnings\n",
    "warnings.filterwarnings('ignore')"
   ]
  },
  {
   "cell_type": "code",
   "execution_count": 57,
   "id": "616195f2",
   "metadata": {},
   "outputs": [],
   "source": [
    "# Step 1: Load the dataset\n",
    "data = pd.read_csv(\"C:/Users/Hemalatha/Downloads/Loan_Dataset.csv\")"
   ]
  },
  {
   "cell_type": "code",
   "execution_count": 58,
   "id": "4634ce52-ce4d-4052-91af-17cc83d5a070",
   "metadata": {},
   "outputs": [
    {
     "name": "stdout",
     "output_type": "stream",
     "text": [
      "  customer_id          name  age gender owns_car owns_house  no_of_children  \\\n",
      "0  CST_142525          Siva   52      F        Y          N             0.0   \n",
      "1  CST_129215         Scott   48      F        N          N             1.0   \n",
      "2  CST_138443      Victoria   50      F        N          N             1.0   \n",
      "3  CST_123812  John McCrank   30      F        N          N             1.0   \n",
      "4  CST_144450      Martinne   52      M        N          Y             0.0   \n",
      "\n",
      "   net_yearly_income  no_of_days_employed occupation_type  \\\n",
      "0          232640.53                998.0         Unknown   \n",
      "1          284396.79               1338.0         Unknown   \n",
      "2          149419.28               1210.0         Unknown   \n",
      "3          160437.54                503.0        Laborers   \n",
      "4          233480.37                157.0        Laborers   \n",
      "\n",
      "   total_family_members  yearly_debt_payments  credit_limit  \\\n",
      "0                   2.0              14406.73      26524.40   \n",
      "1                   3.0              57479.99      68998.72   \n",
      "2                   3.0              21611.01      25187.80   \n",
      "3                   2.0              28990.76      29179.39   \n",
      "4                   2.0              54213.72      82331.82   \n",
      "\n",
      "   credit_limit_used(%)  credit_score  prev_defaults  default_in_last_6months  \\\n",
      "0                   4.0           779            0.0                        0   \n",
      "1                  70.0           806            0.0                        0   \n",
      "2                  71.0           528            2.0                        0   \n",
      "3                   9.0           815            0.0                        0   \n",
      "4                  82.0           613            1.0                        1   \n",
      "\n",
      "   Unnamed: 17  \n",
      "0          NaN  \n",
      "1          NaN  \n",
      "2          NaN  \n",
      "3          NaN  \n",
      "4          NaN  \n",
      "<class 'pandas.core.frame.DataFrame'>\n",
      "RangeIndex: 11383 entries, 0 to 11382\n",
      "Data columns (total 18 columns):\n",
      " #   Column                   Non-Null Count  Dtype  \n",
      "---  ------                   --------------  -----  \n",
      " 0   customer_id              11383 non-null  object \n",
      " 1   name                     11383 non-null  object \n",
      " 2   age                      11383 non-null  int64  \n",
      " 3   gender                   11383 non-null  object \n",
      " 4   owns_car                 11251 non-null  object \n",
      " 5   owns_house               11383 non-null  object \n",
      " 6   no_of_children           11193 non-null  float64\n",
      " 7   net_yearly_income        11383 non-null  float64\n",
      " 8   no_of_days_employed      11278 non-null  float64\n",
      " 9   occupation_type          11383 non-null  object \n",
      " 10  total_family_members     11352 non-null  float64\n",
      " 11  yearly_debt_payments     175 non-null    float64\n",
      " 12  credit_limit             11361 non-null  float64\n",
      " 13  credit_limit_used(%)     11383 non-null  float64\n",
      " 14  credit_score             11383 non-null  int64  \n",
      " 15  prev_defaults            11380 non-null  float64\n",
      " 16  default_in_last_6months  11383 non-null  int64  \n",
      " 17  Unnamed: 17              11208 non-null  float64\n",
      "dtypes: float64(9), int64(3), object(6)\n",
      "memory usage: 1.6+ MB\n",
      "None\n",
      "                age  no_of_children  net_yearly_income  no_of_days_employed  \\\n",
      "count  11383.000000    11193.000000       1.138300e+04         11278.000000   \n",
      "mean      39.073004        0.419012       1.987084e+05         65519.798280   \n",
      "std        9.572474        0.727709       1.151905e+05        137572.106971   \n",
      "min       23.000000        0.000000       3.030994e+04            -3.000000   \n",
      "25%       31.000000        0.000000       1.274479e+05           934.250000   \n",
      "50%       39.000000        0.000000       1.728695e+05          2216.000000   \n",
      "75%       47.000000        1.000000       2.402339e+05          5517.000000   \n",
      "max       55.000000       11.000000       2.472450e+06        365252.000000   \n",
      "\n",
      "       total_family_members  yearly_debt_payments   credit_limit  \\\n",
      "count          11352.000000            175.000000   11361.000000   \n",
      "mean               2.157593          31206.243314   32264.941894   \n",
      "std                0.917391          15981.218757   17608.570581   \n",
      "min                1.000000           4633.430000    2371.740000   \n",
      "25%                2.000000          18518.345000   19612.780000   \n",
      "50%                2.000000          28990.760000   29358.360000   \n",
      "75%                3.000000          40451.355000   40960.930000   \n",
      "max               13.000000          86567.100000  280114.740000   \n",
      "\n",
      "       credit_limit_used(%)  credit_score  prev_defaults  \\\n",
      "count          11383.000000  11383.000000   11380.000000   \n",
      "mean           42307.604286     62.919705     772.479350   \n",
      "std            29650.898402     94.594582     138.635936   \n",
      "min                0.000000      0.000000       0.000000   \n",
      "25%            23658.410000     27.000000     701.000000   \n",
      "50%            35435.600000     54.000000     785.000000   \n",
      "75%            53041.890000     79.000000     869.000000   \n",
      "max           421517.090000    949.000000     949.000000   \n",
      "\n",
      "       default_in_last_6months   Unnamed: 17  \n",
      "count             11383.000000  11208.000000  \n",
      "mean                  0.057454      0.048180  \n",
      "std                   0.258135      0.214156  \n",
      "min                   0.000000      0.000000  \n",
      "25%                   0.000000      0.000000  \n",
      "50%                   0.000000      0.000000  \n",
      "75%                   0.000000      0.000000  \n",
      "max                   2.000000      1.000000  \n"
     ]
    }
   ],
   "source": [
    "# Inspect the data\n",
    "print(data.head())        # View the first few rows\n",
    "print(data.info())        # Check data types and missing values\n",
    "print(data.describe())    # Get summary statistics for numerical columns"
   ]
  },
  {
   "cell_type": "code",
   "execution_count": 59,
   "id": "c9a2b631-dc10-4311-bdcf-8ed7c3d12969",
   "metadata": {},
   "outputs": [
    {
     "name": "stdout",
     "output_type": "stream",
     "text": [
      "customer_id                    0\n",
      "name                           0\n",
      "age                            0\n",
      "gender                         0\n",
      "owns_car                     132\n",
      "owns_house                     0\n",
      "no_of_children               190\n",
      "net_yearly_income              0\n",
      "no_of_days_employed          105\n",
      "occupation_type                0\n",
      "total_family_members          31\n",
      "yearly_debt_payments       11208\n",
      "credit_limit                  22\n",
      "credit_limit_used(%)           0\n",
      "credit_score                   0\n",
      "prev_defaults                  3\n",
      "default_in_last_6months        0\n",
      "Unnamed: 17                  175\n",
      "dtype: int64\n"
     ]
    }
   ],
   "source": [
    "# Check for missing values\n",
    "print(data.isnull().sum())\n",
    "\n",
    "# Handle missing values (example: fill missing numerical data with mean and categorical with mode)\n",
    "data.fillna(data.mean(numeric_only=True), inplace=True)  # For numerical columns\n",
    "data.fillna(data.mode().iloc[0], inplace=True)          # For categorical columns\n",
    "\n",
    "# Encode categorical variables (if any)\n",
    "data_encoded = pd.get_dummies(data, drop_first=True)\n",
    "\n",
    "# Scale numerical features (optional, useful for distance-based models like SVM, KNN)\n",
    "from sklearn.preprocessing import StandardScaler\n",
    "scaler = StandardScaler()\n",
    "scaled_data = scaler.fit_transform(data_encoded)\n",
    "\n",
    "# Convert back to DataFrame\n",
    "data_encoded = pd.DataFrame(scaled_data, columns=data_encoded.columns)\n"
   ]
  },
  {
   "cell_type": "code",
   "execution_count": 60,
   "id": "57775c5b-261e-4231-b604-384b1a37c3fc",
   "metadata": {},
   "outputs": [],
   "source": [
    "# Step 2: Preprocess the Data\n",
    "# Handle missing values (e.g., fill with median or drop rows with many missing values)\n",
    "data = data.fillna(data.median(numeric_only=True))"
   ]
  },
  {
   "cell_type": "code",
   "execution_count": 61,
   "id": "2690773f",
   "metadata": {},
   "outputs": [],
   "source": [
    "# Convert categorical columns to numerical using LabelEncoder\n",
    "categorical_columns = data.select_dtypes(include=['object']).columns\n",
    "le = LabelEncoder()\n",
    "for col in categorical_columns:\n",
    "    data[col] = le.fit_transform(data[col].astype(str))\n",
    "\n",
    "# Define features (X) and target (y)\n",
    "X = data.drop(columns=['default_in_last_6months'])  # Replace with actual target column name\n",
    "y = data['default_in_last_6months']"
   ]
  },
  {
   "cell_type": "code",
   "execution_count": 62,
   "id": "2cab138b",
   "metadata": {},
   "outputs": [],
   "source": [
    "# Step 3: Split the Data\n",
    "X_train, X_test, y_train, y_test = train_test_split(X, y, test_size=0.2, random_state=42)"
   ]
  },
  {
   "cell_type": "code",
   "execution_count": 63,
   "id": "dc564611",
   "metadata": {},
   "outputs": [
    {
     "data": {
      "text/plain": [
       "GradientBoostingClassifier()"
      ]
     },
     "execution_count": 63,
     "metadata": {},
     "output_type": "execute_result"
    }
   ],
   "source": [
    "# Step 4: Train Gradient Boosting Model\n",
    "model = GradientBoostingClassifier()\n",
    "model.fit(X_train, y_train)"
   ]
  },
  {
   "cell_type": "code",
   "execution_count": 64,
   "id": "e95cc521",
   "metadata": {},
   "outputs": [],
   "source": [
    "# Step 5: Evaluate the Model\n",
    "# Predict on the test set\n",
    "y_pred = model.predict(X_test)"
   ]
  },
  {
   "cell_type": "code",
   "execution_count": 68,
   "id": "abc2e423",
   "metadata": {},
   "outputs": [
    {
     "name": "stdout",
     "output_type": "stream",
     "text": [
      "ROC-AUC Score: 0.9971594890243461\n"
     ]
    }
   ],
   "source": [
    "from sklearn.metrics import roc_auc_score\n",
    "\n",
    "# Correct calculation of ROC-AUC for multi-class\n",
    "roc_auc = roc_auc_score(y_test, model.predict_proba(X_test), multi_class='ovr')\n",
    "print(\"ROC-AUC Score:\", roc_auc)\n"
   ]
  },
  {
   "cell_type": "code",
   "execution_count": 69,
   "id": "3f97d24a",
   "metadata": {},
   "outputs": [
    {
     "name": "stdout",
     "output_type": "stream",
     "text": [
      "Accuracy: 0.9846288976723759\n",
      "\n",
      "Classification Report:\n",
      "               precision    recall  f1-score   support\n",
      "\n",
      "           0       0.99      0.99      0.99      2145\n",
      "           1       0.92      0.89      0.91       113\n",
      "           2       0.33      0.37      0.35        19\n",
      "\n",
      "    accuracy                           0.98      2277\n",
      "   macro avg       0.75      0.75      0.75      2277\n",
      "weighted avg       0.99      0.98      0.98      2277\n",
      "\n",
      "ROC-AUC Score: 0.9971594890243461\n"
     ]
    }
   ],
   "source": [
    "# Print results\n",
    "print(\"Accuracy:\", accuracy)\n",
    "print(\"\\nClassification Report:\\n\", classification_rep)\n",
    "print(\"ROC-AUC Score:\", roc_auc)"
   ]
  },
  {
   "cell_type": "code",
   "execution_count": 70,
   "id": "a37c691b",
   "metadata": {},
   "outputs": [
    {
     "name": "stdout",
     "output_type": "stream",
     "text": [
      "\n",
      "Feature Importances:\n",
      "                  Feature  Importance\n",
      "16           Unnamed: 17    0.736158\n",
      "15         prev_defaults    0.170162\n",
      "13  credit_limit_used(%)    0.023897\n",
      "14          credit_score    0.022639\n",
      "0            customer_id    0.008843\n",
      "6         no_of_children    0.006492\n",
      "1                   name    0.006363\n",
      "10  total_family_members    0.005596\n",
      "8    no_of_days_employed    0.004992\n",
      "7      net_yearly_income    0.004597\n",
      "12          credit_limit    0.004334\n",
      "9        occupation_type    0.003138\n",
      "11  yearly_debt_payments    0.001255\n",
      "2                    age    0.001205\n",
      "4               owns_car    0.000155\n",
      "5             owns_house    0.000150\n",
      "3                 gender    0.000025\n"
     ]
    }
   ],
   "source": [
    "# Feature importance\n",
    "importances = model.feature_importances_\n",
    "feature_importance = pd.DataFrame({'Feature': X.columns, 'Importance': importances})\n",
    "print(\"\\nFeature Importances:\\n\", feature_importance.sort_values(by='Importance', ascending=False))"
   ]
  },
  {
   "cell_type": "code",
   "execution_count": null,
   "id": "5178a059-3789-4b2b-af1e-56b6f4c2ed7b",
   "metadata": {},
   "outputs": [],
   "source": []
  }
 ],
 "metadata": {
  "kernelspec": {
   "display_name": "Python 3 (ipykernel)",
   "language": "python",
   "name": "python3"
  },
  "language_info": {
   "codemirror_mode": {
    "name": "ipython",
    "version": 3
   },
   "file_extension": ".py",
   "mimetype": "text/x-python",
   "name": "python",
   "nbconvert_exporter": "python",
   "pygments_lexer": "ipython3",
   "version": "3.9.13"
  }
 },
 "nbformat": 4,
 "nbformat_minor": 5
}
